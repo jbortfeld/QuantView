{
 "cells": [
  {
   "cell_type": "code",
   "execution_count": 2,
   "metadata": {},
   "outputs": [
    {
     "name": "stdout",
     "output_type": "stream",
     "text": [
      "The autoreload extension is already loaded. To reload it, use:\n",
      "  %reload_ext autoreload\n",
      "3.7.4 (default, Aug 13 2019, 15:17:50) \n",
      "[Clang 4.0.1 (tags/RELEASE_401/final)]\n",
      "/Users/education/anaconda/envs/quant_view/bin/python\n"
     ]
    }
   ],
   "source": [
    "%load_ext autoreload\n",
    "%autoreload 2\n",
    "\n",
    "import pandas as pd\n",
    "import numpy as np\n",
    "import time\n",
    "import datetime\n",
    "import sys\n",
    "import sklearn\n",
    "import matplotlib.pyplot as plt\n",
    "\n",
    "%matplotlib inline\n",
    "\n",
    "from apps import functions as functions\n",
    "\n",
    "print(sys.version)\n",
    "print(sys.executable)"
   ]
  },
  {
   "cell_type": "code",
   "execution_count": 35,
   "metadata": {},
   "outputs": [],
   "source": [
    "num_periods = 10\n",
    "num_simulations = 10000\n",
    "\n",
    "equity_returns = functions.random_walk_simulations(mean=0.08,\n",
    "                                                               stdev=0.14,\n",
    "                                                               periods=num_periods,\n",
    "                                                               num_simulations=num_simulations)\n",
    "\n",
    "rates_of_return = equity_returns[:, 1:]\n",
    "rates_of_return = rates_of_return + 1\n",
    "rates_of_return = np.cumprod(rates_of_return, axis=1)\n",
    "rates_of_return = functions.wealth_distributions(rates_of_return)"
   ]
  },
  {
   "cell_type": "code",
   "execution_count": 36,
   "metadata": {},
   "outputs": [
    {
     "name": "stdout",
     "output_type": "stream",
     "text": [
      "[1.07913896 1.16292869 1.25891136 1.35830711 1.46756358 1.58448081\n",
      " 1.71405495 1.85091465 2.00166164]\n",
      "\n",
      "0 1.0791389593803478\n",
      "1 1.077644987990991\n",
      "2 1.0825353001309388\n",
      "3 1.0789537353908019\n",
      "4 1.080435763583443\n",
      "5 1.0796675706932128\n",
      "6 1.0817770358906587\n",
      "7 1.0798455684523875\n",
      "8 1.081444597785691\n"
     ]
    }
   ],
   "source": [
    "print(rates_of_return['mean'])\n",
    "print()\n",
    "\n",
    "for i in range(len(rates_of_return['mean'])):\n",
    "    if i == 0:\n",
    "        print(i, rates_of_return['mean'][0])\n",
    "    else:\n",
    "        print(i, rates_of_return['mean'][i] / rates_of_return['mean'][i-1])\n",
    "        \n",
    "    "
   ]
  },
  {
   "cell_type": "code",
   "execution_count": 28,
   "metadata": {},
   "outputs": [
    {
     "data": {
      "text/plain": [
       "{'mean': array([1.15060784, 1.3223175 , 1.52310426, 1.75259279, 2.02126882,\n",
       "        2.32598707, 2.66771693, 3.06749519, 3.52457544]),\n",
       " 'median': array([1.15139436, 1.31312228, 1.50330824, 1.71834827, 1.96380505,\n",
       "        2.23332604, 2.55930407, 2.92239875, 3.32616822]),\n",
       " 75: array([1.2455638 , 1.46998328, 1.7284655 , 2.01521399, 2.35723061,\n",
       "        2.73802249, 3.16142973, 3.67351252, 4.25353731]),\n",
       " 50: array([1.15139436, 1.31312228, 1.50330824, 1.71834827, 1.96380505,\n",
       "        2.23332604, 2.55930407, 2.92239875, 3.32616822]),\n",
       " 25: array([1.05598418, 1.16303983, 1.29090865, 1.44193081, 1.61776551,\n",
       "        1.82612034, 2.03871261, 2.28899979, 2.58328958]),\n",
       " 10: array([0.97182214, 1.03680421, 1.12670456, 1.23163469, 1.35402058,\n",
       "        1.50301918, 1.65788833, 1.84161469, 2.03733786]),\n",
       " 5: array([0.91921915, 0.96366058, 1.0328757 , 1.11643986, 1.2086362 ,\n",
       "        1.3220174 , 1.46004144, 1.60718992, 1.76361787]),\n",
       " 1: array([0.81836017, 0.83849653, 0.85985006, 0.91660526, 0.97951604,\n",
       "        1.06330279, 1.11991999, 1.21905596, 1.34942366])}"
      ]
     },
     "execution_count": 28,
     "metadata": {},
     "output_type": "execute_result"
    }
   ],
   "source": [
    "rates_of_return"
   ]
  },
  {
   "cell_type": "code",
   "execution_count": null,
   "metadata": {},
   "outputs": [],
   "source": []
  },
  {
   "cell_type": "code",
   "execution_count": null,
   "metadata": {},
   "outputs": [],
   "source": []
  },
  {
   "cell_type": "code",
   "execution_count": null,
   "metadata": {},
   "outputs": [],
   "source": []
  },
  {
   "cell_type": "code",
   "execution_count": null,
   "metadata": {},
   "outputs": [],
   "source": []
  },
  {
   "cell_type": "code",
   "execution_count": null,
   "metadata": {},
   "outputs": [],
   "source": []
  },
  {
   "cell_type": "code",
   "execution_count": null,
   "metadata": {},
   "outputs": [],
   "source": []
  },
  {
   "cell_type": "code",
   "execution_count": null,
   "metadata": {},
   "outputs": [],
   "source": []
  },
  {
   "cell_type": "code",
   "execution_count": null,
   "metadata": {},
   "outputs": [],
   "source": []
  },
  {
   "cell_type": "code",
   "execution_count": null,
   "metadata": {},
   "outputs": [],
   "source": []
  },
  {
   "cell_type": "code",
   "execution_count": null,
   "metadata": {},
   "outputs": [],
   "source": []
  },
  {
   "cell_type": "code",
   "execution_count": null,
   "metadata": {},
   "outputs": [],
   "source": []
  },
  {
   "cell_type": "code",
   "execution_count": null,
   "metadata": {},
   "outputs": [],
   "source": []
  },
  {
   "cell_type": "code",
   "execution_count": null,
   "metadata": {},
   "outputs": [],
   "source": []
  },
  {
   "cell_type": "code",
   "execution_count": null,
   "metadata": {},
   "outputs": [],
   "source": []
  },
  {
   "cell_type": "code",
   "execution_count": null,
   "metadata": {},
   "outputs": [],
   "source": []
  },
  {
   "cell_type": "code",
   "execution_count": null,
   "metadata": {},
   "outputs": [],
   "source": []
  },
  {
   "cell_type": "code",
   "execution_count": null,
   "metadata": {},
   "outputs": [],
   "source": []
  },
  {
   "cell_type": "code",
   "execution_count": null,
   "metadata": {},
   "outputs": [],
   "source": []
  },
  {
   "cell_type": "code",
   "execution_count": null,
   "metadata": {},
   "outputs": [],
   "source": []
  }
 ],
 "metadata": {
  "kernelspec": {
   "display_name": "Python 3",
   "language": "python",
   "name": "python3"
  },
  "language_info": {
   "codemirror_mode": {
    "name": "ipython",
    "version": 3
   },
   "file_extension": ".py",
   "mimetype": "text/x-python",
   "name": "python",
   "nbconvert_exporter": "python",
   "pygments_lexer": "ipython3",
   "version": "3.7.4"
  }
 },
 "nbformat": 4,
 "nbformat_minor": 2
}
