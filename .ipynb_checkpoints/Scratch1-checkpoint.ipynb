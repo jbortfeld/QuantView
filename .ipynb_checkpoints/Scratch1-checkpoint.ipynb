{
 "cells": [
  {
   "cell_type": "code",
   "execution_count": 1,
   "metadata": {},
   "outputs": [
    {
     "name": "stdout",
     "output_type": "stream",
     "text": [
      "3.7.4 (default, Aug 13 2019, 15:17:50) \n",
      "[Clang 4.0.1 (tags/RELEASE_401/final)]\n",
      "/Users/education/anaconda/envs/quant_view/bin/python\n"
     ]
    }
   ],
   "source": [
    "%load_ext autoreload\n",
    "%autoreload 2\n",
    "\n",
    "import pandas as pd\n",
    "import numpy as np\n",
    "import time\n",
    "import datetime\n",
    "import sys\n",
    "import sklearn\n",
    "import matplotlib.pyplot as plt\n",
    "\n",
    "%matplotlib inline\n",
    "\n",
    "from apps import functions as fn\n",
    "\n",
    "print(sys.version)\n",
    "print(sys.executable)"
   ]
  },
  {
   "cell_type": "code",
   "execution_count": 84,
   "metadata": {},
   "outputs": [],
   "source": [
    "# diagnostics\n",
    "mean_return = 0.08\n",
    "std_return = 0.14\n",
    "\n",
    "user_age = 39\n",
    "user_retirement_age = 45\n",
    "user_wealth = 100\n",
    "user_save = 5\n",
    "user_spend = 80000\n",
    "\n",
    "years_to_retire = user_retirement_age - user_age \n",
    "years_to_retire_plus_one = years_to_retire + 1 # because we want to include the current age\n",
    "current_year = datetime.datetime.now().year\n",
    "\n",
    "expected_age_at_death = 88\n",
    "age_at_1_pct_survival_prob = 98\n",
    "\n",
    "\n",
    "num_periods = age_at_1_pct_survival_prob - user_age + 1\n",
    "num_simulations = 10000"
   ]
  },
  {
   "cell_type": "code",
   "execution_count": null,
   "metadata": {},
   "outputs": [],
   "source": []
  },
  {
   "cell_type": "code",
   "execution_count": 56,
   "metadata": {},
   "outputs": [
    {
     "name": "stdout",
     "output_type": "stream",
     "text": [
      "Index(['year', 'sp500_return_including_dividends', 'ust_3m_return',\n",
      "       'ust_return', 'bbb_corporate_return', 'sp500_wealth', 'ust_3m_wealth',\n",
      "       'ust_wealth', 'bbb_corporate_wealth', 'sp500_minus_ust_3m',\n",
      "       'sp500_minus_ust', 'sp500_minus_bbb_corporate',\n",
      "       'historical_risk_premium', 'inflation_rate',\n",
      "       'sp500_including_dividends_real_return', 'ust_3m_real_return',\n",
      "       'ust_real_return', 'bbb_corporate_real_return', 'source'],\n",
      "      dtype='object')\n"
     ]
    }
   ],
   "source": [
    "\n",
    "# simulate market returns based on a random walk\n",
    "equity_return_sim1 = fn.random_walk_simulations(mean=mean_return, \n",
    "    stdev=std_return, \n",
    "    periods=num_periods, \n",
    "    num_simulations=num_simulations)\n",
    "\n",
    "bond_return_sim1 = np.full_like(equity_return_sim1, fill_value=0.01)\n",
    "bond_return_sim1[:,0] = 0.0\n",
    "\n",
    "\n",
    "# get historical annual returns to use in sampling\n",
    "years, sp500, ust_3m, ust, bbb = fn.get_historical_annual_returns()\n",
    "num_historical_samples = len(years)\n",
    "\n",
    "# simulate market returns based on continuous historical sampling\n",
    "_, equity_return_sim2, bond_return_sim2 = fn.build_continuous_sampled_returns(num_periods_per_simulation=num_periods, \n",
    "    num_simulations=num_simulations, \n",
    "    year_list=years, \n",
    "    sp500_list=sp500, \n",
    "    ust_list=ust)\n",
    "\n",
    "\n",
    "# simulate market returns based on discontinuous historical sampling    \n",
    "_,equity_return_sim3, bond_return_sim3 = fn.build_discontinuous_sampled_returns(num_periods_per_simulation=num_periods, \n",
    "sub_sample_length= 5, \n",
    "num_simulations=num_simulations, \n",
    "year_list=years, \n",
    "sp500_list=sp500, \n",
    "ust_list=ust)\n",
    "\n",
    "equity_returns = np.concatenate([equity_return_sim1, equity_return_sim2, equity_return_sim2], axis=0)\n",
    "bond_returns = np.concatenate([bond_return_sim1, bond_return_sim2, bond_return_sim2], axis=0)"
   ]
  },
  {
   "cell_type": "code",
   "execution_count": null,
   "metadata": {},
   "outputs": [],
   "source": []
  },
  {
   "cell_type": "code",
   "execution_count": 34,
   "metadata": {},
   "outputs": [
    {
     "name": "stdout",
     "output_type": "stream",
     "text": [
      "example of first simulation values\n",
      "[ 0.          0.16685557  0.27272658  0.18705689 -0.01974148  0.24090718\n",
      " -0.27423082  0.22722738  0.221252    0.34670546 -0.22009677  0.13937912\n",
      "  0.14828699  0.14734651  0.25798974 -0.15740665  0.02965338  0.18342118\n",
      " -0.08881065  0.17687772 -0.05910417  0.17730848  0.01244114  0.07891699\n",
      "  0.26294977  0.09372327  0.01049132  0.14677431 -0.0038668  -0.06861724\n",
      "  0.2981412  -0.08135386  0.0608457  -0.00765698  0.12301151  0.17421324\n",
      "  0.2956933   0.03566633  0.07178077 -0.0558325   0.00133169 -0.0633209\n",
      " -0.15035334  0.15998412  0.19930013 -0.0805424   0.19834109  0.1575766\n",
      " -0.04861966  0.17948193  0.38842826  0.1759711   0.20630066  0.13057214\n",
      "  0.08765762  0.01128022  0.24376991 -0.05678228  0.31545925  0.03820704]\n",
      "\n",
      "average returns of the first three simulations:\n",
      "0.09408280504146349\n",
      "0.07754730446483254\n",
      "0.06708584090784404\n",
      "\n",
      "average of each simulation's avg return\n",
      "0.07989226084983721\n",
      "\n",
      "average cumulative return (from base of 100):\n",
      "2070.432781676841\n",
      "\n",
      "median cumulative return (from base of 100):\n",
      "[ 1.          1.07885579  1.15868071  1.23459011  1.32512917  1.41333896\n",
      "  1.51400482  1.6204883   1.72911951  1.8572123   1.98662639  2.13526464\n",
      "  2.2815406   2.44627566  2.61634821  2.81088687  3.00760265  3.22038039\n",
      "  3.44497975  3.6613751   3.92140193  4.1744358   4.49115788  4.82679897\n",
      "  5.17823859  5.5570495   5.9288498   6.35820929  6.83556286  7.31209961\n",
      "  7.84697602  8.40129036  9.00168252  9.5922479  10.26701562 10.97325285\n",
      " 11.7347593  12.64389882 13.42664095 14.45465655 15.49354607 16.67884235\n",
      " 17.82858184 19.039977   20.33802168 21.827849   23.43731009 25.06463086\n",
      " 26.84398531 28.4909414  30.51727551 32.74195879 35.21588845 37.68147677\n",
      " 40.29324456 43.13602493 46.05112492 49.64574442 53.09228639 56.46280956]\n",
      "\n",
      "1st percentile cumulative return (from base of 100):\n",
      "[1.         0.75884753 0.71227223 0.68815668 0.6954288  0.68760843\n",
      " 0.68661382 0.70164364 0.69720285 0.71359463 0.71750972 0.72891416\n",
      " 0.75479749 0.78923472 0.78650574 0.79129582 0.82519815 0.84856797\n",
      " 0.84810116 0.88584222 0.92329404 0.98858926 1.0094603  1.03279428\n",
      " 1.08173159 1.13304663 1.16142815 1.19458672 1.25598421 1.31899922\n",
      " 1.34317638 1.41911777 1.46231598 1.53974838 1.58561488 1.6511934\n",
      " 1.71826906 1.77243259 1.8525724  1.94587471 2.0408106  2.07759261\n",
      " 2.2232337  2.27763068 2.36794883 2.49366889 2.63558483 2.78382066\n",
      " 2.9226964  2.99987813 3.31911951 3.4823947  3.69563632 3.8674708\n",
      " 3.97305435 4.08755821 4.45849868 4.61503083 4.93458519 5.30878264]\n",
      "\n"
     ]
    }
   ],
   "source": [
    "\n",
    "\n",
    "def evaluate_simulator_returns(returns):\n",
    "\n",
    "    print('example of first simulation values')\n",
    "    print(returns[0])\n",
    "    print()\n",
    "\n",
    "    print('average returns of the first three simulations:')\n",
    "    print(returns[0].mean())\n",
    "    print(returns[1].mean())\n",
    "    print(returns[2].mean())\n",
    "    print()\n",
    "\n",
    "    print(\"average of each simulation's avg return\")\n",
    "    print(np.mean(returns[:,1:], axis=1).mean())\n",
    "    print()\n",
    "\n",
    "    print(\"average cumulative return (from base of 100):\")\n",
    "    temp = returns + 1\n",
    "    temp = temp.cumprod(axis=1)\n",
    "    print(temp[:-1].mean() * 100)\n",
    "    print()\n",
    "\n",
    "    print(\"median cumulative return (from base of 100):\")\n",
    "    temp = returns + 1\n",
    "    temp = temp.cumprod(axis=1)\n",
    "    temp = fn.wealth_distributions(temp)\n",
    "    print(temp['median'])\n",
    "    print()\n",
    "    \n",
    "    print(\"1st percentile cumulative return (from base of 100):\")\n",
    "    temp = returns + 1\n",
    "    temp = temp.cumprod(axis=1)\n",
    "    temp = fn.wealth_distributions(temp)\n",
    "    print(temp['pct1'])\n",
    "    print()\n",
    "    \n",
    "evaluate_simulator_returns(equity_return_sim1)\n",
    "\n",
    "\n"
   ]
  },
  {
   "cell_type": "code",
   "execution_count": 35,
   "metadata": {},
   "outputs": [
    {
     "data": {
      "text/plain": [
       "(10000, 60)"
      ]
     },
     "execution_count": 35,
     "metadata": {},
     "output_type": "execute_result"
    }
   ],
   "source": [
    "equity_return_sim1.shape"
   ]
  },
  {
   "cell_type": "code",
   "execution_count": null,
   "metadata": {},
   "outputs": [],
   "source": []
  },
  {
   "cell_type": "code",
   "execution_count": 49,
   "metadata": {},
   "outputs": [],
   "source": [
    "allocations = fn.calc_asset_allocations(user_age=user_age, \n",
    "                                           retirement_age=user_retirement_age, \n",
    "                                           final_age=age_at_1_pct_survival_prob, \n",
    "                                           percent_at_retirement=0.6, \n",
    "                                           glide_length=10)\n",
    "allocations = np.array([allocations for i in range(equity_returns.shape[0])])\n"
   ]
  },
  {
   "cell_type": "code",
   "execution_count": 86,
   "metadata": {},
   "outputs": [
    {
     "data": {
      "text/plain": [
       "array([[ 105.        ,  109.87401776,  128.09036201, ..., 5470.6506714 ,\n",
       "        5574.27554224, 5805.33767993],\n",
       "       [ 105.        ,  108.9089631 ,   92.67997912, ..., 3851.21495019,\n",
       "        4259.39092333, 4682.58380703],\n",
       "       [ 105.        ,  113.05299304,  143.03225032, ..., 5098.04484169,\n",
       "        5468.10641927, 6085.58381869],\n",
       "       ...,\n",
       "       [ 105.        ,  126.5858    ,  149.40958698, ..., 5197.00647585,\n",
       "        4706.73175871, 4559.42191899],\n",
       "       [ 105.        ,   77.891     ,  103.00120994, ..., 2591.95658239,\n",
       "        2470.00254898, 3169.41906561],\n",
       "       [ 105.        ,   93.2987    ,   72.87368467, ..., 3992.61319536,\n",
       "        4864.96848592, 4988.77101635]])"
      ]
     },
     "execution_count": 86,
     "metadata": {},
     "output_type": "execute_result"
    }
   ],
   "source": [
    "starting_wealth_array = np.full(shape=equity_returns.shape[0], \n",
    "            fill_value=user_wealth)\n",
    "\n",
    "fn.calc_wealth_trajectory(starting_wealth=starting_wealth_array,\n",
    "                         equity_returns = equity_returns,\n",
    "                         bond_returns=bond_returns,\n",
    "                         allocations=allocations,\n",
    "                         contribution=user_save, \n",
    "                         include_contribution_for_first_obs=True)"
   ]
  },
  {
   "cell_type": "code",
   "execution_count": null,
   "metadata": {},
   "outputs": [],
   "source": []
  },
  {
   "cell_type": "code",
   "execution_count": null,
   "metadata": {},
   "outputs": [],
   "source": []
  },
  {
   "cell_type": "code",
   "execution_count": null,
   "metadata": {},
   "outputs": [],
   "source": []
  },
  {
   "cell_type": "code",
   "execution_count": null,
   "metadata": {},
   "outputs": [],
   "source": []
  },
  {
   "cell_type": "code",
   "execution_count": null,
   "metadata": {},
   "outputs": [],
   "source": []
  },
  {
   "cell_type": "code",
   "execution_count": null,
   "metadata": {},
   "outputs": [],
   "source": []
  },
  {
   "cell_type": "code",
   "execution_count": null,
   "metadata": {},
   "outputs": [],
   "source": []
  },
  {
   "cell_type": "code",
   "execution_count": null,
   "metadata": {},
   "outputs": [],
   "source": []
  },
  {
   "cell_type": "code",
   "execution_count": null,
   "metadata": {},
   "outputs": [],
   "source": []
  },
  {
   "cell_type": "code",
   "execution_count": null,
   "metadata": {},
   "outputs": [],
   "source": []
  },
  {
   "cell_type": "code",
   "execution_count": null,
   "metadata": {},
   "outputs": [],
   "source": []
  },
  {
   "cell_type": "code",
   "execution_count": null,
   "metadata": {},
   "outputs": [],
   "source": []
  },
  {
   "cell_type": "code",
   "execution_count": null,
   "metadata": {},
   "outputs": [],
   "source": []
  }
 ],
 "metadata": {
  "kernelspec": {
   "display_name": "Python 3",
   "language": "python",
   "name": "python3"
  },
  "language_info": {
   "codemirror_mode": {
    "name": "ipython",
    "version": 3
   },
   "file_extension": ".py",
   "mimetype": "text/x-python",
   "name": "python",
   "nbconvert_exporter": "python",
   "pygments_lexer": "ipython3",
   "version": "3.7.4"
  }
 },
 "nbformat": 4,
 "nbformat_minor": 2
}
